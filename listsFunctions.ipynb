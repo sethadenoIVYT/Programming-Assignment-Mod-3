{
 "cells": [
  {
   "cell_type": "code",
   "execution_count": 80,
   "id": "78961b09-a658-4fa6-a554-01068ab2a98d",
   "metadata": {},
   "outputs": [
    {
     "name": "stdout",
     "output_type": "stream",
     "text": [
      "['mozzarella', 'cinderella', 'salmonella']\n"
     ]
    }
   ],
   "source": [
    "things = ['mozzarella', 'cinderella', 'salmonella']\n",
    "print(things)"
   ]
  },
  {
   "cell_type": "code",
   "execution_count": 82,
   "id": "2403974d-0c11-4158-9d58-e8b9f1fbbb6b",
   "metadata": {},
   "outputs": [
    {
     "name": "stdout",
     "output_type": "stream",
     "text": [
      "['mozzarella', 'Cinderella', 'salmonella']\n"
     ]
    }
   ],
   "source": [
    "hold = things[1]\n",
    "things[1] = hold.capitalize()\n",
    "\n",
    "print(things)"
   ]
  },
  {
   "cell_type": "markdown",
   "id": "3ed40e3b-1fd2-4f4a-a7f5-221860b85f27",
   "metadata": {},
   "source": [
    "Yes, it did change the element in the list."
   ]
  },
  {
   "cell_type": "code",
   "execution_count": 84,
   "id": "e909b571-a037-40ff-96e9-7c9eee885fb0",
   "metadata": {},
   "outputs": [
    {
     "name": "stdout",
     "output_type": "stream",
     "text": [
      "['MOZZARELLA', 'Cinderella', 'salmonella']\n"
     ]
    }
   ],
   "source": [
    "hold = things[0]\n",
    "things[0] = hold.upper()\n",
    "print(things)"
   ]
  },
  {
   "cell_type": "code",
   "execution_count": 86,
   "id": "9673c473-d361-4e40-9ecb-7c2d15e97c63",
   "metadata": {},
   "outputs": [
    {
     "name": "stdout",
     "output_type": "stream",
     "text": [
      "['MOZZARELLA', 'Cinderella']\n"
     ]
    }
   ],
   "source": [
    "things.pop(2)\n",
    "print(things)"
   ]
  },
  {
   "cell_type": "code",
   "execution_count": 88,
   "id": "3b46d3fd-78ae-4424-9db2-571907676612",
   "metadata": {},
   "outputs": [],
   "source": [
    "def good():\n",
    "    return ['Harry', 'Ron', 'Hermione']"
   ]
  },
  {
   "cell_type": "code",
   "execution_count": 94,
   "id": "59c191c0-bc0f-449c-a3e0-460d21c1ed02",
   "metadata": {},
   "outputs": [
    {
     "name": "stdout",
     "output_type": "stream",
     "text": [
      "5\n"
     ]
    }
   ],
   "source": [
    "def get_odds():\n",
    "    oddList = []\n",
    "    for n in range(10):\n",
    "        if n % 2 != 0:\n",
    "            oddList.append(n)\n",
    "    return oddList\n",
    "\n",
    "oddNums = get_odds()\n",
    "\n",
    "for m in range(len(oddNums)):\n",
    "    if m == 2:\n",
    "        print(oddNums[m])"
   ]
  }
 ],
 "metadata": {
  "kernelspec": {
   "display_name": "Python 3 (ipykernel)",
   "language": "python",
   "name": "python3"
  },
  "language_info": {
   "codemirror_mode": {
    "name": "ipython",
    "version": 3
   },
   "file_extension": ".py",
   "mimetype": "text/x-python",
   "name": "python",
   "nbconvert_exporter": "python",
   "pygments_lexer": "ipython3",
   "version": "3.12.4"
  }
 },
 "nbformat": 4,
 "nbformat_minor": 5
}
